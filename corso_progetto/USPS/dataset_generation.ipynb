{
 "cells": [
  {
   "cell_type": "code",
   "execution_count": 11,
   "metadata": {
    "collapsed": true
   },
   "outputs": [],
   "source": [
    "import torch\n",
    "from torch.utils.data import DataLoader\n",
    "import torchvision\n",
    "from torchvision import transforms\n",
    "\n",
    "import ssl\n",
    "ssl._create_default_https_context = ssl._create_unverified_context\n",
    "\n",
    "transform = transforms.ToTensor()\n",
    "Train_set = torchvision.datasets.USPS(root='./data', train=True, download=True, transform=transform)\n",
    "Test_set = torchvision.datasets.USPS(root='./data', train=False, download=True, transform=transform)\n",
    "\n"
   ]
  },
  {
   "cell_type": "code",
   "execution_count": 12,
   "outputs": [
    {
     "name": "stdout",
     "output_type": "stream",
     "text": [
      "torch.Size([7291, 16, 16, 1])\n",
      "torch.Size([7291])\n",
      "torch.Size([2007, 16, 16, 1])\n",
      "torch.Size([2007])\n"
     ]
    }
   ],
   "source": [
    "import numpy as np\n",
    "\n",
    "for k, ds in enumerate([Train_set, Test_set]):\n",
    "    loader = DataLoader(ds, batch_size=len(ds), shuffle=True)\n",
    "    for _, (inputs, labels) in enumerate(loader):\n",
    "        data = np.transpose(inputs, (0, 2, 3, 1))\n",
    "        label_default = labels\n",
    "\n",
    "    print(np.shape(data))\n",
    "    print(np.shape(label_default))\n",
    "\n",
    "    if k == 0:\n",
    "        np.save(\"train_x.npy\", data, allow_pickle=True)\n",
    "        np.save(\"train_y.npy\", label_default, allow_pickle=True)\n",
    "    elif k == 1:\n",
    "        np.save(\"test_x.npy\", data, allow_pickle=True)\n",
    "        np.save(\"test_y.npy\", label_default, allow_pickle=True)\n"
   ],
   "metadata": {
    "collapsed": false,
    "pycharm": {
     "name": "#%%\n"
    }
   }
  },
  {
   "cell_type": "code",
   "execution_count": 12,
   "outputs": [],
   "source": [],
   "metadata": {
    "collapsed": false,
    "pycharm": {
     "name": "#%%\n"
    }
   }
  }
 ],
 "metadata": {
  "kernelspec": {
   "display_name": "Python 3",
   "language": "python",
   "name": "python3"
  },
  "language_info": {
   "codemirror_mode": {
    "name": "ipython",
    "version": 2
   },
   "file_extension": ".py",
   "mimetype": "text/x-python",
   "name": "python",
   "nbconvert_exporter": "python",
   "pygments_lexer": "ipython2",
   "version": "2.7.6"
  }
 },
 "nbformat": 4,
 "nbformat_minor": 0
}