{
 "cells": [
  {
   "cell_type": "markdown",
   "metadata": {
    "id": "lFrTiHVXnp5S"
   },
   "source": [
    "# **Set according to environment (e.g. local, Google Colab...)**"
   ]
  },
  {
   "cell_type": "code",
   "execution_count": 13,
   "metadata": {
    "id": "R1TynGfJn9FM",
    "executionInfo": {
     "status": "ok",
     "timestamp": 1647940997985,
     "user_tz": -60,
     "elapsed": 242,
     "user": {
      "displayName": "Lorenzo Petrella",
      "photoUrl": "https://lh3.googleusercontent.com/a/default-user=s64",
      "userId": "15951970565465703880"
     }
    }
   },
   "outputs": [],
   "source": [
    "project_folder = ''"
   ]
  },
  {
   "cell_type": "markdown",
   "metadata": {
    "id": "iZFxvzHy_pb6"
   },
   "source": [
    "# **Body**"
   ]
  },
  {
   "cell_type": "code",
   "execution_count": 14,
   "outputs": [],
   "source": [
    "from custom_libraries.miscellaneous import *\n",
    "from custom_libraries.image_dataset import *\n",
    "import numpy as np"
   ],
   "metadata": {
    "collapsed": false,
    "pycharm": {
     "name": "#%%\n"
    }
   }
  },
  {
   "cell_type": "code",
   "execution_count": 15,
   "metadata": {
    "id": "kxKDUPDCLEHY",
    "executionInfo": {
     "status": "ok",
     "timestamp": 1647941003025,
     "user_tz": -60,
     "elapsed": 4,
     "user": {
      "displayName": "Lorenzo Petrella",
      "photoUrl": "https://lh3.googleusercontent.com/a/default-user=s64",
      "userId": "15951970565465703880"
     }
    }
   },
   "outputs": [],
   "source": [
    "\n",
    "\n",
    "class treeLayer(tf.keras.layers.Layer):\n",
    "\n",
    "    def __init__(self, Input_size=3072, Activation=\"relu\"):\n",
    "        super(treeLayer, self).__init__()\n",
    "        self.Input_size = Input_size\n",
    "        self.Activation = Activation\n",
    "\n",
    "    def build(self, input_shape):\n",
    "        self.kernel = self.add_weight(shape=(1, self.Input_size),\n",
    "                                      initializer=tf.keras.initializers.HeNormal,\n",
    "                                      trainable=True)\n",
    "        self.summer = np.zeros((self.Input_size, self.Input_size // 2))\n",
    "        for i in range(self.Input_size):\n",
    "            self.summer[i, i // 2] = 1\n",
    "\n",
    "        self.summer = tf.convert_to_tensor(self.summer, dtype=tf.float32)\n",
    "\n",
    "    def call(self, inputs):\n",
    "        x = tf.math.multiply(inputs, self.kernel)\n",
    "        x = tf.matmul(x, self.summer)\n",
    "        x = tf.nn.leaky_relu(x, alpha=.01)\n",
    "        return x\n",
    "\n",
    "\n",
    "def create_model(input_size, num_trees=1):\n",
    "    model = tf.keras.Sequential()\n",
    "    while input_size > num_trees:\n",
    "        model.add(treeLayer(input_size))\n",
    "        input_size = input_size // 2\n",
    "    model.add(tf.keras.layers.Dense(units=1, activation='sigmoid', use_bias=False))\n",
    "\n",
    "    model.compile(optimizer=tf.keras.optimizers.Adam(learning_rate=1e-3),\n",
    "                  loss=tf.keras.losses.BinaryCrossentropy(\n",
    "                      reduction=tf.keras.losses.Reduction.SUM_OVER_BATCH_SIZE\n",
    "                  ),\n",
    "                  metrics=[tf.keras.losses.BinaryCrossentropy(name='binary_crossentropy'), 'acc'])\n",
    "\n",
    "    return model\n"
   ]
  },
  {
   "cell_type": "code",
   "execution_count": null,
   "outputs": [],
   "source": [
    "import gc\n",
    "\n",
    "# Initialize settings\n",
    "bs = 256\n",
    "trials = 10\n",
    "epochs = 2000\n",
    "trees_set = [1, 2, 4, 8, 16, 32]\n",
    "\n",
    "# Load class-dataset list\n",
    "# classes = np.load(project_folder + 'results/classes.npy', allow_pickle=True)\n",
    "\n",
    "classes = [[3, 5, 'mnist']]\n",
    "\n",
    "callback = tf.keras.callbacks.EarlyStopping(monitor='val_binary_crossentropy', patience=60)\n",
    "\n",
    "#history = np.load(project_folder + 'results/fcnn_history.npy', allow_pickle=True)\n",
    "history = np.zeros((len(classes), trials, len(trees_set), 2))\n",
    "\n",
    "# For each dataset enumerated from classes list\n",
    "for j, (t1, t2, ds) in enumerate(classes):\n",
    "\n",
    "    print(f\"Dataset: {ds} / Pair: {t1}-{t2}\")\n",
    "\n",
    "    test_ds = ImageDataset(ds, 'test', data_dir=None)\n",
    "    train_ds = ImageDataset(ds, 'train', data_dir=None)\n",
    "\n",
    "    for x in [train_ds, test_ds]:\n",
    "        x.filter(t1, t2, overwrite=True)\n",
    "        x.shuffle()\n",
    "        x.normalize()\n",
    "        if x.images.shape[1:3] == (28, 28):\n",
    "            x.pad()\n",
    "        x.vectorize(True)\n",
    "\n",
    "    for k, trees in enumerate(trees_set):\n",
    "\n",
    "        print(f\"{trees}-FCNN\")\n",
    "        X_train, y_train, X_valid, y_valid = train_ds.subset(shard=True, shard_number=trials, validation=True,\n",
    "                                                             validation_size=len(test_ds.images))\n",
    "        X_test, y_test = test_ds.subset()\n",
    "        test_set = tf.data.Dataset.from_tensor_slices((X_test, y_test)).map(\n",
    "            lambda x, y: (tf.tile(x, [trees]), y)).batch(bs)\n",
    "\n",
    "        #if history[j, -1, k, 0] != 0:\n",
    "        #  continue\n",
    "\n",
    "        for i in range(trials):\n",
    "            print(f\"Trial {i + 1}\")\n",
    "\n",
    "            #with tf.device('/device:GPU:0'):\n",
    "\n",
    "            model = create_model(input_size=X_train[i].shape[1] * trees, num_trees=trees)\n",
    "\n",
    "            train_set = tf.data.Dataset.from_tensor_slices((X_train[i], y_train[i])).map(\n",
    "                lambda x, y: (tf.tile(x, [trees]), y)).batch(bs)\n",
    "            valid_set = tf.data.Dataset.from_tensor_slices((X_valid[i], y_valid[i])).map(\n",
    "                lambda x, y: (tf.tile(x, [trees]), y)).batch(bs)\n",
    "\n",
    "            fit_history = model.fit(x=train_set, batch_size=bs, epochs=epochs,\n",
    "                                    validation_data=valid_set, validation_batch_size=bs,\n",
    "                                    callbacks=[callback], verbose=0)\n",
    "            print_fit_history(fit_history, epochs)\n",
    "\n",
    "            evaluate_history = model.evaluate(x=test_set, batch_size=bs, verbose=0)\n",
    "            print_evaluate_history(evaluate_history)\n",
    "\n",
    "            history[j, i, k] = evaluate_history[1:]\n",
    "\n",
    "            np.save(project_folder + 'results/fcnn_history.npy', history,\n",
    "                    allow_pickle=True)\n",
    "\n",
    "            del model, train_set, valid_set\n",
    "            gc.collect()"
   ],
   "metadata": {
    "collapsed": false,
    "pycharm": {
     "name": "#%%\n"
    }
   }
  },
  {
   "cell_type": "code",
   "source": [
    "print(history)\n",
    "model.summary()"
   ],
   "metadata": {
    "id": "4yfTGA7VxpD2"
   },
   "execution_count": null,
   "outputs": []
  }
 ],
 "metadata": {
  "colab": {
   "name": "ktree_orig.ipynb",
   "provenance": [
    {
     "file_id": "1yPa4_TERRnpMOCLciJNiJVyLEDfyy26l",
     "timestamp": 1647559041758
    }
   ],
   "collapsed_sections": [],
   "mount_file_id": "1qIeM9anBGN7gxh7issfVzLlQPB1xsao0",
   "authorship_tag": "ABX9TyPtoL+ouxkw4LpIUIYcN2kh"
  },
  "kernelspec": {
   "display_name": "Python 3",
   "name": "python3"
  },
  "language_info": {
   "name": "python"
  },
  "accelerator": "GPU",
  "widgets": {
   "application/vnd.jupyter.widget-state+json": {
    "8893c8e692264c158d5ef02dfdbb24f9": {
     "model_module": "@jupyter-widgets/controls",
     "model_name": "HBoxModel",
     "model_module_version": "1.5.0",
     "state": {
      "_dom_classes": [],
      "_model_module": "@jupyter-widgets/controls",
      "_model_module_version": "1.5.0",
      "_model_name": "HBoxModel",
      "_view_count": null,
      "_view_module": "@jupyter-widgets/controls",
      "_view_module_version": "1.5.0",
      "_view_name": "HBoxView",
      "box_style": "",
      "children": [
       "IPY_MODEL_e2223afc63bd440bb14785f72c9d33d2",
       "IPY_MODEL_3ec39dd1446f40a18b57b70ab718335f",
       "IPY_MODEL_5ffa722cc9b146bc80fa7014e6ce9e6a"
      ],
      "layout": "IPY_MODEL_9659bca9e8d841dd8e5d34af70e2f42c"
     }
    },
    "e2223afc63bd440bb14785f72c9d33d2": {
     "model_module": "@jupyter-widgets/controls",
     "model_name": "HTMLModel",
     "model_module_version": "1.5.0",
     "state": {
      "_dom_classes": [],
      "_model_module": "@jupyter-widgets/controls",
      "_model_module_version": "1.5.0",
      "_model_name": "HTMLModel",
      "_view_count": null,
      "_view_module": "@jupyter-widgets/controls",
      "_view_module_version": "1.5.0",
      "_view_name": "HTMLView",
      "description": "",
      "description_tooltip": null,
      "layout": "IPY_MODEL_9d2c9d285c12486aa67f5de8e4f2b312",
      "placeholder": "​",
      "style": "IPY_MODEL_5ea671b3acb2405e86cd004be6788104",
      "value": "Dl Completed...: 100%"
     }
    },
    "3ec39dd1446f40a18b57b70ab718335f": {
     "model_module": "@jupyter-widgets/controls",
     "model_name": "FloatProgressModel",
     "model_module_version": "1.5.0",
     "state": {
      "_dom_classes": [],
      "_model_module": "@jupyter-widgets/controls",
      "_model_module_version": "1.5.0",
      "_model_name": "FloatProgressModel",
      "_view_count": null,
      "_view_module": "@jupyter-widgets/controls",
      "_view_module_version": "1.5.0",
      "_view_name": "ProgressView",
      "bar_style": "success",
      "description": "",
      "description_tooltip": null,
      "layout": "IPY_MODEL_d4e39cdd9e484363a9dce84758b81e59",
      "max": 4,
      "min": 0,
      "orientation": "horizontal",
      "style": "IPY_MODEL_b7c3ddc073084520a7c0c9d857e20787",
      "value": 4
     }
    },
    "5ffa722cc9b146bc80fa7014e6ce9e6a": {
     "model_module": "@jupyter-widgets/controls",
     "model_name": "HTMLModel",
     "model_module_version": "1.5.0",
     "state": {
      "_dom_classes": [],
      "_model_module": "@jupyter-widgets/controls",
      "_model_module_version": "1.5.0",
      "_model_name": "HTMLModel",
      "_view_count": null,
      "_view_module": "@jupyter-widgets/controls",
      "_view_module_version": "1.5.0",
      "_view_name": "HTMLView",
      "description": "",
      "description_tooltip": null,
      "layout": "IPY_MODEL_9b54d9a81d1946af83998f93174a8821",
      "placeholder": "​",
      "style": "IPY_MODEL_d9ed125a730b492fb44b099a4f368e34",
      "value": " 4/4 [00:00&lt;00:00,  9.12 file/s]"
     }
    },
    "9659bca9e8d841dd8e5d34af70e2f42c": {
     "model_module": "@jupyter-widgets/base",
     "model_name": "LayoutModel",
     "model_module_version": "1.2.0",
     "state": {
      "_model_module": "@jupyter-widgets/base",
      "_model_module_version": "1.2.0",
      "_model_name": "LayoutModel",
      "_view_count": null,
      "_view_module": "@jupyter-widgets/base",
      "_view_module_version": "1.2.0",
      "_view_name": "LayoutView",
      "align_content": null,
      "align_items": null,
      "align_self": null,
      "border": null,
      "bottom": null,
      "display": null,
      "flex": null,
      "flex_flow": null,
      "grid_area": null,
      "grid_auto_columns": null,
      "grid_auto_flow": null,
      "grid_auto_rows": null,
      "grid_column": null,
      "grid_gap": null,
      "grid_row": null,
      "grid_template_areas": null,
      "grid_template_columns": null,
      "grid_template_rows": null,
      "height": null,
      "justify_content": null,
      "justify_items": null,
      "left": null,
      "margin": null,
      "max_height": null,
      "max_width": null,
      "min_height": null,
      "min_width": null,
      "object_fit": null,
      "object_position": null,
      "order": null,
      "overflow": null,
      "overflow_x": null,
      "overflow_y": null,
      "padding": null,
      "right": null,
      "top": null,
      "visibility": null,
      "width": null
     }
    },
    "9d2c9d285c12486aa67f5de8e4f2b312": {
     "model_module": "@jupyter-widgets/base",
     "model_name": "LayoutModel",
     "model_module_version": "1.2.0",
     "state": {
      "_model_module": "@jupyter-widgets/base",
      "_model_module_version": "1.2.0",
      "_model_name": "LayoutModel",
      "_view_count": null,
      "_view_module": "@jupyter-widgets/base",
      "_view_module_version": "1.2.0",
      "_view_name": "LayoutView",
      "align_content": null,
      "align_items": null,
      "align_self": null,
      "border": null,
      "bottom": null,
      "display": null,
      "flex": null,
      "flex_flow": null,
      "grid_area": null,
      "grid_auto_columns": null,
      "grid_auto_flow": null,
      "grid_auto_rows": null,
      "grid_column": null,
      "grid_gap": null,
      "grid_row": null,
      "grid_template_areas": null,
      "grid_template_columns": null,
      "grid_template_rows": null,
      "height": null,
      "justify_content": null,
      "justify_items": null,
      "left": null,
      "margin": null,
      "max_height": null,
      "max_width": null,
      "min_height": null,
      "min_width": null,
      "object_fit": null,
      "object_position": null,
      "order": null,
      "overflow": null,
      "overflow_x": null,
      "overflow_y": null,
      "padding": null,
      "right": null,
      "top": null,
      "visibility": null,
      "width": null
     }
    },
    "5ea671b3acb2405e86cd004be6788104": {
     "model_module": "@jupyter-widgets/controls",
     "model_name": "DescriptionStyleModel",
     "model_module_version": "1.5.0",
     "state": {
      "_model_module": "@jupyter-widgets/controls",
      "_model_module_version": "1.5.0",
      "_model_name": "DescriptionStyleModel",
      "_view_count": null,
      "_view_module": "@jupyter-widgets/base",
      "_view_module_version": "1.2.0",
      "_view_name": "StyleView",
      "description_width": ""
     }
    },
    "d4e39cdd9e484363a9dce84758b81e59": {
     "model_module": "@jupyter-widgets/base",
     "model_name": "LayoutModel",
     "model_module_version": "1.2.0",
     "state": {
      "_model_module": "@jupyter-widgets/base",
      "_model_module_version": "1.2.0",
      "_model_name": "LayoutModel",
      "_view_count": null,
      "_view_module": "@jupyter-widgets/base",
      "_view_module_version": "1.2.0",
      "_view_name": "LayoutView",
      "align_content": null,
      "align_items": null,
      "align_self": null,
      "border": null,
      "bottom": null,
      "display": null,
      "flex": null,
      "flex_flow": null,
      "grid_area": null,
      "grid_auto_columns": null,
      "grid_auto_flow": null,
      "grid_auto_rows": null,
      "grid_column": null,
      "grid_gap": null,
      "grid_row": null,
      "grid_template_areas": null,
      "grid_template_columns": null,
      "grid_template_rows": null,
      "height": null,
      "justify_content": null,
      "justify_items": null,
      "left": null,
      "margin": null,
      "max_height": null,
      "max_width": null,
      "min_height": null,
      "min_width": null,
      "object_fit": null,
      "object_position": null,
      "order": null,
      "overflow": null,
      "overflow_x": null,
      "overflow_y": null,
      "padding": null,
      "right": null,
      "top": null,
      "visibility": null,
      "width": null
     }
    },
    "b7c3ddc073084520a7c0c9d857e20787": {
     "model_module": "@jupyter-widgets/controls",
     "model_name": "ProgressStyleModel",
     "model_module_version": "1.5.0",
     "state": {
      "_model_module": "@jupyter-widgets/controls",
      "_model_module_version": "1.5.0",
      "_model_name": "ProgressStyleModel",
      "_view_count": null,
      "_view_module": "@jupyter-widgets/base",
      "_view_module_version": "1.2.0",
      "_view_name": "StyleView",
      "bar_color": null,
      "description_width": ""
     }
    },
    "9b54d9a81d1946af83998f93174a8821": {
     "model_module": "@jupyter-widgets/base",
     "model_name": "LayoutModel",
     "model_module_version": "1.2.0",
     "state": {
      "_model_module": "@jupyter-widgets/base",
      "_model_module_version": "1.2.0",
      "_model_name": "LayoutModel",
      "_view_count": null,
      "_view_module": "@jupyter-widgets/base",
      "_view_module_version": "1.2.0",
      "_view_name": "LayoutView",
      "align_content": null,
      "align_items": null,
      "align_self": null,
      "border": null,
      "bottom": null,
      "display": null,
      "flex": null,
      "flex_flow": null,
      "grid_area": null,
      "grid_auto_columns": null,
      "grid_auto_flow": null,
      "grid_auto_rows": null,
      "grid_column": null,
      "grid_gap": null,
      "grid_row": null,
      "grid_template_areas": null,
      "grid_template_columns": null,
      "grid_template_rows": null,
      "height": null,
      "justify_content": null,
      "justify_items": null,
      "left": null,
      "margin": null,
      "max_height": null,
      "max_width": null,
      "min_height": null,
      "min_width": null,
      "object_fit": null,
      "object_position": null,
      "order": null,
      "overflow": null,
      "overflow_x": null,
      "overflow_y": null,
      "padding": null,
      "right": null,
      "top": null,
      "visibility": null,
      "width": null
     }
    },
    "d9ed125a730b492fb44b099a4f368e34": {
     "model_module": "@jupyter-widgets/controls",
     "model_name": "DescriptionStyleModel",
     "model_module_version": "1.5.0",
     "state": {
      "_model_module": "@jupyter-widgets/controls",
      "_model_module_version": "1.5.0",
      "_model_name": "DescriptionStyleModel",
      "_view_count": null,
      "_view_module": "@jupyter-widgets/base",
      "_view_module_version": "1.2.0",
      "_view_name": "StyleView",
      "description_width": ""
     }
    }
   }
  }
 },
 "nbformat": 4,
 "nbformat_minor": 0
}