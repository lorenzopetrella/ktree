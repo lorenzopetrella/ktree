{
 "nbformat": 4,
 "nbformat_minor": 0,
 "metadata": {
  "colab": {
   "name": "fcnn.ipynb",
   "provenance": [],
   "collapsed_sections": [],
   "mount_file_id": "1yPa4_TERRnpMOCLciJNiJVyLEDfyy26l",
   "authorship_tag": "ABX9TyOaOg470G1N56mzXs8ChE/z"
  },
  "kernelspec": {
   "name": "python3",
   "display_name": "Python 3"
  },
  "language_info": {
   "name": "python"
  },
  "accelerator": "GPU"
 },
 "cells": [
  {
   "cell_type": "markdown",
   "source": [
    "# **Set according to environment (e.g. local, Google Colab...)**"
   ],
   "metadata": {
    "id": "lFrTiHVXnp5S"
   }
  },
  {
   "cell_type": "code",
   "source": [
    "project_folder = ''"
   ],
   "metadata": {
    "id": "R1TynGfJn9FM",
    "executionInfo": {
     "status": "ok",
     "timestamp": 1647888135726,
     "user_tz": -60,
     "elapsed": 4,
     "user": {
      "displayName": "Lorenzo Petrella",
      "photoUrl": "https://lh3.googleusercontent.com/a/default-user=s64",
      "userId": "15951970565465703880"
     }
    }
   },
   "execution_count": 5,
   "outputs": []
  },
  {
   "cell_type": "markdown",
   "source": [
    "# **Body**"
   ],
   "metadata": {
    "id": "iZFxvzHy_pb6"
   }
  },
  {
   "cell_type": "code",
   "execution_count": 6,
   "outputs": [],
   "source": [
    "from custom_libraries.image_dataset import *\n",
    "from custom_libraries.miscellaneous import *\n",
    "import numpy as np"
   ],
   "metadata": {
    "collapsed": false,
    "pycharm": {
     "name": "#%%\n"
    }
   }
  },
  {
   "cell_type": "code",
   "source": [
    "def create_model(num_units):\n",
    "    model = tf.keras.Sequential()\n",
    "    model.add(\n",
    "        tf.keras.layers.Dense(units=num_units, activation=None, kernel_initializer=tf.keras.initializers.HeNormal, ))\n",
    "    model.add(tf.keras.layers.LeakyReLU(alpha=.01))\n",
    "    model.add(tf.keras.layers.Dense(units=1, activation='sigmoid'))\n",
    "\n",
    "    model.compile(optimizer=tf.keras.optimizers.Adam(learning_rate=1e-3),\n",
    "                  loss=tf.keras.losses.BinaryCrossentropy(),\n",
    "                  metrics=[tf.keras.losses.BinaryCrossentropy(name='binary_crossentropy'), 'acc'])\n",
    "\n",
    "    return model"
   ],
   "metadata": {
    "id": "GJEAI7dJBKGc",
    "executionInfo": {
     "status": "ok",
     "timestamp": 1647888140358,
     "user_tz": -60,
     "elapsed": 4,
     "user": {
      "displayName": "Lorenzo Petrella",
      "photoUrl": "https://lh3.googleusercontent.com/a/default-user=s64",
      "userId": "15951970565465703880"
     }
    }
   },
   "execution_count": 7,
   "outputs": []
  },
  {
   "cell_type": "code",
   "source": [
    "bs = 256\n",
    "trials = 10\n",
    "epochs = 2000\n",
    "trees_set = [1, 32]\n",
    "\n",
    "classes = np.load(project_folder + 'results/classes.npy', allow_pickle=True)\n",
    "# TODO: verificare l'effetto di patience sul risultato di svhn (rischio underfitting)\n",
    "callback = tf.keras.callbacks.EarlyStopping(monitor='val_binary_crossentropy', patience=60)\n",
    "\n",
    "#classes = [classes[-2]]\n",
    "history = np.zeros((len(classes), trials, len(trees_set), 2))\n",
    "\n",
    "#history = np.load(project_folder+'results/fcnn_history.npy', allow_pickle=True)\n",
    "#history[-2,:,:,:] = 0\n",
    "\n",
    "for j, (t1, t2, ds) in enumerate(classes):\n",
    "\n",
    "    print(f\"Dataset: {ds} / Pair: {t1}-{t2}\")\n",
    "\n",
    "    #if history[j, 0, 0, 0] != 0:\n",
    "    #    continue\n",
    "\n",
    "    test_ds = ImageDataset(ds, 'test', data_dir=None, USPS_dir=project_folder + 'USPS/')\n",
    "    train_ds = ImageDataset(ds, 'train', data_dir=None, USPS_dir=project_folder + 'USPS/')\n",
    "\n",
    "    for x in [train_ds, test_ds]:\n",
    "        x.filter(t1, t2, overwrite=True)\n",
    "        x.shuffle()\n",
    "        x.normalize()\n",
    "        if x.images.shape[1:3] == (28, 28):\n",
    "            x.pad()\n",
    "        x.vectorize(True)\n",
    "\n",
    "    X_train, y_train, X_valid, y_valid = train_ds.subset(shard=True, shard_number=trials, validation=True,\n",
    "                                                         validation_size=len(test_ds.images))\n",
    "    test_set = tf.data.Dataset.from_tensor_slices((test_ds.images, test_ds.labels)).batch(bs)\n",
    "\n",
    "    for k, trees in enumerate(trees_set):\n",
    "\n",
    "        print(f\"{trees}-FCNN\")\n",
    "\n",
    "        for i in range(trials):\n",
    "\n",
    "            if history[j, i, k, 0] != 0:\n",
    "                continue\n",
    "\n",
    "            print(f\"Trial {i + 1}\")\n",
    "\n",
    "            model = create_model(num_units=2 * trees)\n",
    "\n",
    "            train_set = tf.data.Dataset.from_tensor_slices((X_train[i], y_train[i])).batch(bs)\n",
    "            valid_set = tf.data.Dataset.from_tensor_slices((X_valid[i], y_valid[i])).batch(bs)\n",
    "\n",
    "            with tf.device('/device:GPU:0'):\n",
    "\n",
    "                fit_history = model.fit(x=train_set, batch_size=bs, epochs=epochs,\n",
    "                                        validation_data=valid_set, validation_batch_size=bs,\n",
    "                                        callbacks=[callback], verbose=0)\n",
    "                print_fit_history(fit_history, epochs)\n",
    "\n",
    "                evaluate_history = model.evaluate(x=test_set, batch_size=bs, verbose=0)\n",
    "                print_evaluate_history(evaluate_history)\n",
    "\n",
    "                history[j, i, k] = evaluate_history[1:]\n",
    "\n",
    "                np.save(project_folder + 'results/fcnn_history.npy', history,\n",
    "                        allow_pickle=True)"
   ],
   "metadata": {
    "id": "_p5yaGWI_rhQ",
    "colab": {
     "base_uri": "https://localhost:8080/"
    },
    "executionInfo": {
     "status": "ok",
     "timestamp": 1647890584560,
     "user_tz": -60,
     "elapsed": 2444205,
     "user": {
      "displayName": "Lorenzo Petrella",
      "photoUrl": "https://lh3.googleusercontent.com/a/default-user=s64",
      "userId": "15951970565465703880"
     }
    },
    "outputId": "70219fc4-624b-4bae-ee8d-729dac5ceda3",
    "pycharm": {
     "is_executing": true
    }
   },
   "execution_count": null,
   "outputs": []
  },
  {
   "cell_type": "code",
   "source": [
    "# Eseguire analisi statistica per confronto con Jones&Kording, Table 2, righe n-FCNN\n",
    "print(history)"
   ],
   "metadata": {
    "id": "7St40wVIR06V",
    "executionInfo": {
     "status": "ok",
     "timestamp": 1647890584562,
     "user_tz": -60,
     "elapsed": 23,
     "user": {
      "displayName": "Lorenzo Petrella",
      "photoUrl": "https://lh3.googleusercontent.com/a/default-user=s64",
      "userId": "15951970565465703880"
     }
    },
    "colab": {
     "base_uri": "https://localhost:8080/"
    },
    "outputId": "e7a3b1fc-ef07-4703-b3df-6f0f617c2b22"
   },
   "execution_count": null,
   "outputs": []
  }
 ]
}