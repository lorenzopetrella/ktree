{
 "cells": [
  {
   "cell_type": "code",
   "execution_count": null,
   "outputs": [],
   "source": [
    "import tensorflow as tf\n",
    "\n",
    "inputs = tf.keras.Input(shape=1024)\n",
    "outputs = tf.keras.layers.Lambda(lambda x: tf.split(x, num_or_size_splits=1024, axis=1))(inputs)\n",
    "while len(outputs) > 1:\n",
    "    new_output = []\n",
    "    for i in range(len(outputs)//2):\n",
    "        new_output.append(tf.keras.layers.LeakyReLU(alpha=.01)(tf.keras.layers.Dense(units=1, activation=None, use_bias=False)(output)))\n",
    "    outputs = new_output\n",
    "\n",
    "model = tf.keras.Model(inputs=inputs, outputs=outputs, name=\"mnist_model\")"
   ],
   "metadata": {
    "collapsed": false,
    "pycharm": {
     "name": "#%%\n",
     "is_executing": true
    }
   }
  },
  {
   "cell_type": "code",
   "execution_count": 18,
   "outputs": [
    {
     "name": "stdout",
     "output_type": "stream",
     "text": [
      "2047\n"
     ]
    }
   ],
   "source": [
    "import tensorflow as tf\n",
    "import numpy as np\n",
    "\n",
    "def create_new_model(current_shape=1024):\n",
    "    current_shape = 1024\n",
    "    inputs = tf.keras.Input(shape=current_shape)\n",
    "    current_shape //= 2\n",
    "    x = tf.keras.layers.Lambda(lambda x: tf.split(x, num_or_size_splits=current_shape, axis=1))(inputs)\n",
    "    last_run = False\n",
    "    while len(x) > 1:\n",
    "        y = []\n",
    "        for x_couple in x:\n",
    "            y.append(tf.keras.layers.LeakyReLU(alpha=.01)(tf.keras.layers.Dense(units=1, activation=None, use_bias=False)(x_couple)))\n",
    "        x = tf.keras.layers.Concatenate(axis=-1)(y)\n",
    "        current_shape//=2\n",
    "        x = tf.keras.layers.Lambda(lambda x: tf.split(x, num_or_size_splits=current_shape, axis=1))(x)\n",
    "\n",
    "    x = tf.keras.layers.LeakyReLU(alpha=.01)(tf.keras.layers.Dense(units=1, activation=None, use_bias=False)(x[0]))\n",
    "    outputs = tf.keras.layers.Dense(units=1, activation=\"sigmoid\", use_bias=False)(x)\n",
    "    model = tf.keras.Model(inputs=inputs, outputs=outputs, name=\"mnist_model\")\n",
    "\n",
    "    return model\n",
    "\n",
    "def create_new_model(current_shape=1024):\n",
    "    inputs = tf.keras.Input(shape=(current_shape,), dtype=tf.float64)\n",
    "    current_shape //= 2\n",
    "    x = tf.split(inputs, num_or_size_splits=current_shape, axis=-1)\n",
    "    print(x)\n",
    "    while len(x) > 1:\n",
    "        y = []\n",
    "        for i in range(len(x)//2):\n",
    "            y.append(tf.concat(\n",
    "                [tf.nn.leaky_relu(tf.keras.layers.Dense(units=1, activation=None, use_bias=False)(x[2*i]), alpha=.01),\n",
    "                 tf.nn.leaky_relu(tf.keras.layers.Dense(units=1, activation=None, use_bias=False)(x[2*i+1]), alpha=.01)],\n",
    "                axis=-1))\n",
    "        x = y\n",
    "\n",
    "    x = tf.keras.layers.LeakyReLU(alpha=.01)(tf.keras.layers.Dense(units=1, activation=None, use_bias=False)(x[0]))\n",
    "    outputs = tf.keras.layers.Dense(units=1, activation=\"sigmoid\", use_bias=False)(x)\n",
    "    model = tf.keras.Model(inputs=inputs, outputs=outputs, name=\"mnist_model\")\n",
    "    model.summary()\n",
    "    model.compile(optimizer=tf.keras.optimizers.Adam(learning_rate=1e-3, epsilon=1e-08),\n",
    "                  loss=tf.keras.losses.BinaryCrossentropy(reduction=tf.keras.losses.Reduction.AUTO),\n",
    "                  metrics=['binary_crossentropy', 'acc'])\n",
    "\n",
    "    return model"
   ],
   "metadata": {
    "collapsed": false,
    "pycharm": {
     "name": "#%%\n"
    }
   }
  }
 ],
 "metadata": {
  "kernelspec": {
   "display_name": "Python 3",
   "language": "python",
   "name": "python3"
  },
  "language_info": {
   "codemirror_mode": {
    "name": "ipython",
    "version": 2
   },
   "file_extension": ".py",
   "mimetype": "text/x-python",
   "name": "python",
   "nbconvert_exporter": "python",
   "pygments_lexer": "ipython2",
   "version": "2.7.6"
  }
 },
 "nbformat": 4,
 "nbformat_minor": 0
}