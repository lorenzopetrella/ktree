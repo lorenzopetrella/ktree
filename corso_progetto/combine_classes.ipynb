{
 "nbformat": 4,
 "nbformat_minor": 0,
 "metadata": {
  "colab": {
   "name": "combine_classes.ipynb",
   "provenance": [],
   "collapsed_sections": [],
   "mount_file_id": "1xcbv8iZvRYgcv2RJ7YVPF-YvDkXd0bLC",
   "authorship_tag": "ABX9TyN1abYgZ4i/1AHCx3xKPI6T"
  },
  "kernelspec": {
   "name": "python3",
   "display_name": "Python 3"
  },
  "language_info": {
   "name": "python"
  }
 },
 "cells": [
  {
   "cell_type": "markdown",
   "source": [
    "# **Set according to environment (e.g. local, Google Colab...)**"
   ],
   "metadata": {
    "id": "lFrTiHVXnp5S"
   }
  },
  {
   "cell_type": "code",
   "source": [
    "project_folder = ''"
   ],
   "metadata": {
    "id": "R1TynGfJn9FM",
    "executionInfo": {
     "status": "ok",
     "timestamp": 1647862428158,
     "user_tz": -60,
     "elapsed": 202,
     "user": {
      "displayName": "Lorenzo Petrella",
      "photoUrl": "https://lh3.googleusercontent.com/a/default-user=s64",
      "userId": "15951970565465703880"
     }
    }
   },
   "execution_count": 1,
   "outputs": []
  },
  {
   "cell_type": "markdown",
   "source": [
    "# **Body**"
   ],
   "metadata": {
    "id": "42Wi-Zmun_iZ"
   }
  },
  {
   "cell_type": "code",
   "execution_count": 2,
   "outputs": [],
   "source": [
    "import numpy as np"
   ],
   "metadata": {
    "collapsed": false,
    "pycharm": {
     "name": "#%%\n"
    }
   }
  },
  {
   "cell_type": "code",
   "execution_count": 3,
   "outputs": [
    {
     "name": "stdout",
     "output_type": "stream",
     "text": [
      "[[3 5 'mnist']\n",
      " [0 6 'fmnist']\n",
      " [2 6 'kmnist']\n",
      " [14 17 'emnist']\n",
      " [5 6 'svhn']\n",
      " [3 5 'usps']\n",
      " [3 5 'cifar10']]\n"
     ]
    }
   ],
   "source": [
    "paired_test = np.load(project_folder + 'results/confused_pairs_all.npy')\n",
    "pt_mean = np.mean(paired_test, axis=1)\n",
    "ds_set = ['mnist', 'fmnist', 'kmnist','svhn','usps', 'cifar10']\n",
    "classes = []\n",
    "\n",
    "for i, ds in enumerate(ds_set):\n",
    "\n",
    "    focus = pt_mean[i]\n",
    "    a = np.min(focus[np.nonzero(focus)])\n",
    "    c = np.where(focus == a)\n",
    "    classes.append([c[0][0], c[1][0], ds])\n",
    "\n",
    "classes = np.array(classes, dtype=object)\n",
    "classes_orig = classes\n",
    "\n",
    "\n",
    "paired_test = np.load(project_folder + 'results/confused_pairs_emnist.npy')\n",
    "pt_mean = np.mean(paired_test, axis=1)\n",
    "ds_set = ['emnist']\n",
    "classes = []\n",
    "\n",
    "for i, ds in enumerate(ds_set):\n",
    "\n",
    "    focus = pt_mean[i]\n",
    "    a = np.min(focus[np.nonzero(focus)])\n",
    "    c = np.where(focus == a)\n",
    "    classes.append([c[0][0]+10, c[1][0]+10, ds])\n",
    "\n",
    "classes = np.array(classes, dtype=object)\n",
    "\n",
    "# New data order: mnist, fmnist, kmnist, emnist, svhn, usps, cifar10\n",
    "\n",
    "classes_final = np.concatenate((classes_orig,classes),0)\n",
    "a = classes_final[3:6].copy()\n",
    "b = classes_final[6].copy()\n",
    "classes_final[3] = b\n",
    "classes_final[4:] = a\n",
    "\n",
    "print(classes_final)\n",
    "np.save(project_folder + 'results/classes.npy', classes_final)"
   ],
   "metadata": {
    "collapsed": false,
    "pycharm": {
     "name": "#%%\n"
    }
   }
  }
 ]
}