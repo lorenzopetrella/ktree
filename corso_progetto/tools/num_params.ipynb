{
 "cells": [
  {
   "cell_type": "code",
   "execution_count": 12,
   "metadata": {
    "collapsed": true
   },
   "outputs": [],
   "source": [
    "def get_num_params_ktree(input_size, num_trees=1, bias=False):\n",
    "\n",
    "    kernel_size = input_size\n",
    "    bias_size = 0\n",
    "    soma_bias = 1 - num_trees\n",
    "    while input_size > 1:\n",
    "        if input_size % 3 == 0:\n",
    "            input_size /= 3\n",
    "        else:\n",
    "            input_size /= 2\n",
    "        kernel_size += input_size\n",
    "        bias_size += input_size\n",
    "\n",
    "    if not bias:\n",
    "        bias_size = 0\n",
    "        soma_bias = 0\n",
    "\n",
    "    return num_trees*(kernel_size + bias_size) + soma_bias\n",
    "\n",
    "def get_num_params_FCNN(input_size, hidden_size):\n",
    "\n",
    "    return hidden_size*(input_size+1) + hidden_size + 1"
   ]
  },
  {
   "cell_type": "code",
   "execution_count": 15,
   "outputs": [
    {
     "name": "stdout",
     "output_type": "stream",
     "text": [
      "6149\n",
      "12297\n",
      "24593\n",
      "49185\n",
      "98369\n",
      "196737\n"
     ]
    }
   ],
   "source": [
    "for trees in [1, 2, 4, 8, 16, 32]:\n",
    "    print(get_num_params_FCNN(3072, trees*2))"
   ],
   "metadata": {
    "collapsed": false,
    "pycharm": {
     "name": "#%%\n"
    }
   }
  }
 ],
 "metadata": {
  "kernelspec": {
   "display_name": "Python 3",
   "language": "python",
   "name": "python3"
  },
  "language_info": {
   "codemirror_mode": {
    "name": "ipython",
    "version": 2
   },
   "file_extension": ".py",
   "mimetype": "text/x-python",
   "name": "python",
   "nbconvert_exporter": "python",
   "pygments_lexer": "ipython2",
   "version": "2.7.6"
  }
 },
 "nbformat": 4,
 "nbformat_minor": 0
}