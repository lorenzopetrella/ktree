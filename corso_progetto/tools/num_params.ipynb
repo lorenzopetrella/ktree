{
 "cells": [
  {
   "cell_type": "code",
   "execution_count": 25,
   "metadata": {
    "collapsed": true
   },
   "outputs": [],
   "source": [
    "def get_num_params(input_size, num_trees=1, bias=False):\n",
    "\n",
    "    kernel_size = input_size\n",
    "    bias_size = 0\n",
    "    soma_bias = 1 - num_trees\n",
    "    while input_size > 1:\n",
    "        if input_size % 3 == 0:\n",
    "            input_size /= 3\n",
    "        else:\n",
    "            input_size /= 2\n",
    "        kernel_size += input_size\n",
    "        bias_size += input_size\n",
    "\n",
    "    if not bias:\n",
    "        bias_size = 0\n",
    "        soma_bias = 0\n",
    "\n",
    "    return num_trees*(kernel_size + bias_size) + soma_bias"
   ]
  },
  {
   "cell_type": "code",
   "execution_count": 26,
   "outputs": [
    {
     "name": "stdout",
     "output_type": "stream",
     "text": [
      "98209.0\n"
     ]
    }
   ],
   "source": [
    "print(get_num_params(1024, 32, True))"
   ],
   "metadata": {
    "collapsed": false,
    "pycharm": {
     "name": "#%%\n"
    }
   }
  }
 ],
 "metadata": {
  "kernelspec": {
   "display_name": "Python 3",
   "language": "python",
   "name": "python3"
  },
  "language_info": {
   "codemirror_mode": {
    "name": "ipython",
    "version": 2
   },
   "file_extension": ".py",
   "mimetype": "text/x-python",
   "name": "python",
   "nbconvert_exporter": "python",
   "pygments_lexer": "ipython2",
   "version": "2.7.6"
  }
 },
 "nbformat": 4,
 "nbformat_minor": 0
}