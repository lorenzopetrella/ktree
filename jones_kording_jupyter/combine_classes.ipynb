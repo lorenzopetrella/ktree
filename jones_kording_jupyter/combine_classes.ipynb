{
 "cells": [
  {
   "cell_type": "code",
   "execution_count": 1,
   "outputs": [],
   "source": [
    "# Google Colab compatibility\n",
    "project_folder = ''"
   ],
   "metadata": {
    "collapsed": false,
    "pycharm": {
     "name": "#%%\n"
    }
   }
  },
  {
   "cell_type": "code",
   "execution_count": 2,
   "metadata": {
    "collapsed": true
   },
   "outputs": [],
   "source": [
    "import numpy as np"
   ]
  },
  {
   "cell_type": "code",
   "execution_count": 3,
   "outputs": [
    {
     "name": "stdout",
     "output_type": "stream",
     "text": [
      "[[3 5 'mnist']\n",
      " [0 6 'fmnist']\n",
      " [2 6 'kmnist']\n",
      " [14 17 'emnist']\n",
      " [5 6 'svhn']\n",
      " [3 5 'usps']\n",
      " [3 5 'cifar10']]\n"
     ]
    }
   ],
   "source": [
    "paired_test = np.load(project_folder + 'results/confused_pairs_all.npy')\n",
    "\n",
    "# Use the mean of each paired class set over all trials\n",
    "pt_mean = np.mean(paired_test, axis=1)\n",
    "\n",
    "# Initialize dataset set\n",
    "ds_set = ['mnist', 'fmnist', 'kmnist','svhn','usps', 'cifar10']\n",
    "\n",
    "# Initialize classes variable for record keeping\n",
    "classes = []\n",
    "\n",
    "# For each dataset\n",
    "for i, ds in enumerate(ds_set):\n",
    "    # Select the paired class means for the selected dataset\n",
    "    focus = pt_mean[i]\n",
    "\n",
    "    # Select pair of classes that have the lowest score\n",
    "    a = np.min(focus[np.nonzero(focus)])\n",
    "    c = np.where(focus == a)\n",
    "\n",
    "    # Record keeping\n",
    "    classes.append([c[0][0], c[1][0], ds])\n",
    "\n",
    "classes = np.array(classes, dtype=object)\n",
    "classes_orig = classes\n",
    "\n",
    "\n",
    "########\n",
    "#### Look at confused pairs for only EMNIST\n",
    "########\n",
    "\n",
    "paired_test = np.load(project_folder + 'results/confused_pairs_emnist.npy')\n",
    "\n",
    "pt_mean = np.mean(paired_test, axis=1)\n",
    "\n",
    "# Initialize dataset set\n",
    "ds_set = ['emnist']\n",
    "\n",
    "# Initialize classes variable for record keeping\n",
    "classes = []\n",
    "# For each dataset (only EMNIST)\n",
    "for i, ds in enumerate(ds_set):\n",
    "    # Select the paired class means for the selected dataset\n",
    "    focus = pt_mean[i]\n",
    "\n",
    "    # Select pair of classes that have the lowest score\n",
    "    a = np.min(focus[np.nonzero(focus)])\n",
    "    c = np.where(focus == a)\n",
    "\n",
    "    # Record keeping\n",
    "    classes.append([c[0][0]+10, c[1][0]+10, ds])\n",
    "\n",
    "classes = np.array(classes, dtype=object)\n",
    "\n",
    "########\n",
    "#### Organize final class pairs into an array for further use\n",
    "########\n",
    "\n",
    "classes_final = np.concatenate((classes_orig,classes),0)\n",
    "a = classes_final[3:6].copy()\n",
    "b = classes_final[6].copy()\n",
    "classes_final[3] = b\n",
    "classes_final[4:] = a\n",
    "\n",
    "print(classes_final)\n",
    "np.save(project_folder + 'results/classes.npy', classes_final, allow_pickle=True)"
   ],
   "metadata": {
    "collapsed": false,
    "pycharm": {
     "name": "#%%\n"
    }
   }
  }
 ],
 "metadata": {
  "kernelspec": {
   "display_name": "Python 3",
   "language": "python",
   "name": "python3"
  },
  "language_info": {
   "codemirror_mode": {
    "name": "ipython",
    "version": 2
   },
   "file_extension": ".py",
   "mimetype": "text/x-python",
   "name": "python",
   "nbconvert_exporter": "python",
   "pygments_lexer": "ipython2",
   "version": "2.7.6"
  }
 },
 "nbformat": 4,
 "nbformat_minor": 0
}