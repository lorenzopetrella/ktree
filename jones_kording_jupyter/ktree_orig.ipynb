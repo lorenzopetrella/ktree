{
 "cells": [
  {
   "cell_type": "code",
   "execution_count": 8,
   "outputs": [],
   "source": [
    "# Google Colab compatibility\n",
    "project_folder = ''"
   ],
   "metadata": {
    "collapsed": false,
    "pycharm": {
     "name": "#%%\n"
    }
   }
  },
  {
   "cell_type": "code",
   "execution_count": 9,
   "metadata": {
    "collapsed": true
   },
   "outputs": [],
   "source": [
    "from custompackage.load_data import *\n",
    "from custompackage.load_architecture import *\n",
    "from custompackage.traintestloop import *\n",
    "import numpy as np"
   ]
  },
  {
   "cell_type": "code",
   "execution_count": 10,
   "outputs": [
    {
     "name": "stdout",
     "output_type": "stream",
     "text": [
      "3 5 mnist\n",
      "0 0 0\n"
     ]
    },
    {
     "ename": "KeyboardInterrupt",
     "evalue": "",
     "output_type": "error",
     "traceback": [
      "\u001B[1;31m---------------------------------------------------------------------------\u001B[0m",
      "\u001B[1;31mKeyboardInterrupt\u001B[0m                         Traceback (most recent call last)",
      "Input \u001B[1;32mIn [10]\u001B[0m, in \u001B[0;36m<cell line: 20>\u001B[1;34m()\u001B[0m\n\u001B[0;32m     35\u001B[0m     model \u001B[38;5;241m=\u001B[39m ktree_gen(ds\u001B[38;5;241m=\u001B[39mds, Repeats\u001B[38;5;241m=\u001B[39mtrees, Padded\u001B[38;5;241m=\u001B[39m\u001B[38;5;28;01mTrue\u001B[39;00m)\n\u001B[0;32m     37\u001B[0m \u001B[38;5;66;03m#Train and test ktree, assigning loss and acc values\u001B[39;00m\n\u001B[1;32m---> 38\u001B[0m loss_curve, acc_curve, loss[j,i,k], acc[j,i,k], model_t \u001B[38;5;241m=\u001B[39m \u001B[43mtrain_test_ktree\u001B[49m\u001B[43m(\u001B[49m\u001B[43mmodel\u001B[49m\u001B[43m,\u001B[49m\u001B[43m \u001B[49m\u001B[43mtrainloaders\u001B[49m\u001B[43m[\u001B[49m\u001B[43mi\u001B[49m\u001B[43m]\u001B[49m\u001B[43m,\u001B[49m\n\u001B[0;32m     39\u001B[0m \u001B[43m                                                                      \u001B[49m\u001B[43mvalidloaders\u001B[49m\u001B[43m[\u001B[49m\u001B[43mi\u001B[49m\u001B[43m]\u001B[49m\u001B[43m,\u001B[49m\u001B[43m \u001B[49m\u001B[43mtestloader\u001B[49m\u001B[43m,\u001B[49m\u001B[43m \u001B[49m\u001B[43mepochs\u001B[49m\u001B[43m \u001B[49m\u001B[38;5;241;43m=\u001B[39;49m\u001B[43m \u001B[49m\u001B[43mepochs\u001B[49m\u001B[43m,\u001B[49m\u001B[43m \u001B[49m\u001B[43mrandorder\u001B[49m\u001B[38;5;241;43m=\u001B[39;49m\u001B[38;5;28;43;01mFalse\u001B[39;49;00m\u001B[43m,\u001B[49m\u001B[43m \u001B[49m\u001B[43muse_cuda\u001B[49m\u001B[38;5;241;43m=\u001B[39;49m\u001B[43muse_cuda\u001B[49m\u001B[43m)\u001B[49m\n\u001B[0;32m     40\u001B[0m \u001B[38;5;66;03m# Save accuracy and loss arrays\u001B[39;00m\n\u001B[0;32m     41\u001B[0m np\u001B[38;5;241m.\u001B[39msave(project_folder \u001B[38;5;241m+\u001B[39m \u001B[38;5;124m'\u001B[39m\u001B[38;5;124mresults/ktree_acc_orig_\u001B[39m\u001B[38;5;124m'\u001B[39m\u001B[38;5;241m+\u001B[39m\u001B[38;5;28mstr\u001B[39m(class_set)\u001B[38;5;241m+\u001B[39m\u001B[38;5;124m'\u001B[39m\u001B[38;5;124m.npy\u001B[39m\u001B[38;5;124m'\u001B[39m, acc)\n",
      "File \u001B[1;32mD:\\PC-LORENZO\\UNIVERSITA\\OneDrive - Politecnico di Milano\\III ANNO-Lorenzo\\2-CORSO PROGETTO\\ktree\\jones_kording_jupyter\\custompackage\\traintestloop.py:107\u001B[0m, in \u001B[0;36mtrain_test_ktree\u001B[1;34m(model, trainloader, validloader, testloader, epochs, randorder, patience, use_cuda)\u001B[0m\n\u001B[0;32m    103\u001B[0m valid_loss \u001B[38;5;241m=\u001B[39m np\u001B[38;5;241m.\u001B[39maverage(valid_losses)\n\u001B[0;32m    105\u001B[0m \u001B[38;5;66;03m# early_stopping needs the validation loss to check if it has decreased,\u001B[39;00m\n\u001B[0;32m    106\u001B[0m \u001B[38;5;66;03m# and if it has, it will make a checkpoint of the current model\u001B[39;00m\n\u001B[1;32m--> 107\u001B[0m \u001B[43mearly_stopping\u001B[49m\u001B[43m(\u001B[49m\u001B[43mvalid_loss\u001B[49m\u001B[43m,\u001B[49m\u001B[43m \u001B[49m\u001B[43mmodel\u001B[49m\u001B[43m)\u001B[49m\n\u001B[0;32m    109\u001B[0m \u001B[38;5;28;01mif\u001B[39;00m early_stopping\u001B[38;5;241m.\u001B[39mearly_stop:\n\u001B[0;32m    110\u001B[0m     \u001B[38;5;28mprint\u001B[39m(\u001B[38;5;124m\"\u001B[39m\u001B[38;5;124mEarly stopping\u001B[39m\u001B[38;5;124m\"\u001B[39m)\n",
      "File \u001B[1;32mD:\\PC-LORENZO\\UNIVERSITA\\OneDrive - Politecnico di Milano\\III ANNO-Lorenzo\\2-CORSO PROGETTO\\ktree\\jones_kording_jupyter\\pytorchtools.py:44\u001B[0m, in \u001B[0;36mEarlyStopping.__call__\u001B[1;34m(self, val_loss, model)\u001B[0m\n\u001B[0;32m     42\u001B[0m \u001B[38;5;28;01melse\u001B[39;00m:\n\u001B[0;32m     43\u001B[0m     \u001B[38;5;28mself\u001B[39m\u001B[38;5;241m.\u001B[39mbest_score \u001B[38;5;241m=\u001B[39m score\n\u001B[1;32m---> 44\u001B[0m     \u001B[38;5;28;43mself\u001B[39;49m\u001B[38;5;241;43m.\u001B[39;49m\u001B[43msave_checkpoint\u001B[49m\u001B[43m(\u001B[49m\u001B[43mval_loss\u001B[49m\u001B[43m,\u001B[49m\u001B[43m \u001B[49m\u001B[43mmodel\u001B[49m\u001B[43m)\u001B[49m\n\u001B[0;32m     45\u001B[0m     \u001B[38;5;28mself\u001B[39m\u001B[38;5;241m.\u001B[39mcounter \u001B[38;5;241m=\u001B[39m \u001B[38;5;241m0\u001B[39m\n",
      "File \u001B[1;32mD:\\PC-LORENZO\\UNIVERSITA\\OneDrive - Politecnico di Milano\\III ANNO-Lorenzo\\2-CORSO PROGETTO\\ktree\\jones_kording_jupyter\\pytorchtools.py:51\u001B[0m, in \u001B[0;36mEarlyStopping.save_checkpoint\u001B[1;34m(self, val_loss, model)\u001B[0m\n\u001B[0;32m     49\u001B[0m \u001B[38;5;28;01mif\u001B[39;00m \u001B[38;5;28mself\u001B[39m\u001B[38;5;241m.\u001B[39mverbose:\n\u001B[0;32m     50\u001B[0m     \u001B[38;5;28mself\u001B[39m\u001B[38;5;241m.\u001B[39mtrace_func(\u001B[38;5;124mf\u001B[39m\u001B[38;5;124m'\u001B[39m\u001B[38;5;124mValidation loss decreased (\u001B[39m\u001B[38;5;132;01m{\u001B[39;00m\u001B[38;5;28mself\u001B[39m\u001B[38;5;241m.\u001B[39mval_loss_min\u001B[38;5;132;01m:\u001B[39;00m\u001B[38;5;124m.6f\u001B[39m\u001B[38;5;132;01m}\u001B[39;00m\u001B[38;5;124m --> \u001B[39m\u001B[38;5;132;01m{\u001B[39;00mval_loss\u001B[38;5;132;01m:\u001B[39;00m\u001B[38;5;124m.6f\u001B[39m\u001B[38;5;132;01m}\u001B[39;00m\u001B[38;5;124m).  Saving model ...\u001B[39m\u001B[38;5;124m'\u001B[39m)\n\u001B[1;32m---> 51\u001B[0m \u001B[43mtorch\u001B[49m\u001B[38;5;241;43m.\u001B[39;49m\u001B[43msave\u001B[49m\u001B[43m(\u001B[49m\u001B[43mmodel\u001B[49m\u001B[38;5;241;43m.\u001B[39;49m\u001B[43mstate_dict\u001B[49m\u001B[43m(\u001B[49m\u001B[43m)\u001B[49m\u001B[43m,\u001B[49m\u001B[43m \u001B[49m\u001B[38;5;28;43mself\u001B[39;49m\u001B[38;5;241;43m.\u001B[39;49m\u001B[43mpath\u001B[49m\u001B[43m)\u001B[49m\n\u001B[0;32m     52\u001B[0m \u001B[38;5;28mself\u001B[39m\u001B[38;5;241m.\u001B[39mval_loss_min \u001B[38;5;241m=\u001B[39m val_loss\n",
      "File \u001B[1;32mc:\\pythonvenv\\lib\\site-packages\\torch\\serialization.py:380\u001B[0m, in \u001B[0;36msave\u001B[1;34m(obj, f, pickle_module, pickle_protocol, _use_new_zipfile_serialization)\u001B[0m\n\u001B[0;32m    378\u001B[0m     \u001B[38;5;28;01mwith\u001B[39;00m _open_zipfile_writer(opened_file) \u001B[38;5;28;01mas\u001B[39;00m opened_zipfile:\n\u001B[0;32m    379\u001B[0m         _save(obj, opened_zipfile, pickle_module, pickle_protocol)\n\u001B[1;32m--> 380\u001B[0m         \u001B[38;5;28;01mreturn\u001B[39;00m\n\u001B[0;32m    381\u001B[0m _legacy_save(obj, opened_file, pickle_module, pickle_protocol)\n",
      "File \u001B[1;32mc:\\pythonvenv\\lib\\site-packages\\torch\\serialization.py:214\u001B[0m, in \u001B[0;36m_open_file.__exit__\u001B[1;34m(self, *args)\u001B[0m\n\u001B[0;32m    213\u001B[0m \u001B[38;5;28;01mdef\u001B[39;00m \u001B[38;5;21m__exit__\u001B[39m(\u001B[38;5;28mself\u001B[39m, \u001B[38;5;241m*\u001B[39margs):\n\u001B[1;32m--> 214\u001B[0m     \u001B[38;5;28;43mself\u001B[39;49m\u001B[38;5;241;43m.\u001B[39;49m\u001B[43mfile_like\u001B[49m\u001B[38;5;241;43m.\u001B[39;49m\u001B[43mclose\u001B[49m\u001B[43m(\u001B[49m\u001B[43m)\u001B[49m\n",
      "\u001B[1;31mKeyboardInterrupt\u001B[0m: "
     ]
    }
   ],
   "source": [
    "class_set = 0\n",
    "\n",
    "use_cuda = torch.cuda.is_available()\n",
    "\n",
    "# Initialize settings\n",
    "bs = 256\n",
    "weighting = 'paired'\n",
    "trials = 10\n",
    "epochs = 2000\n",
    "trees_set = [1]\n",
    "\n",
    "# Load class-dataset list\n",
    "classes = np.load(project_folder + 'results/classes.npy', allow_pickle=True)\n",
    "\n",
    "# Initialize final test loss and accuracy variables\n",
    "loss = np.zeros((len(classes), trials, len(trees_set)))\n",
    "acc = np.zeros((len(classes), trials, len(trees_set)))\n",
    "\n",
    "# For each dataset enumerated from classes list\n",
    "for j, (t1, t2, ds) in enumerate(classes):\n",
    "    print(t1, t2, ds)\n",
    "    # Load data loaders\n",
    "    trainloaders, validloaders, testloader = dataset_weighted_split_all(bs, t1, t2, weighting, trials, ds, permute=False)\n",
    "    # Initialize input size for model initialization purposes\n",
    "    input_size = trainloaders[0].dataset.tensors[0][0].shape[0]\n",
    "    # For each trial\n",
    "    for k, trees in enumerate(trees_set):\n",
    "        # For every k-tree defined by trees_set\n",
    "        for i in range(trials):\n",
    "            print(j, i, k)\n",
    "            # Initialize the ktree model\n",
    "            if use_cuda:\n",
    "                model = ktree_gen(ds=ds, Repeats=trees, Padded=True).cuda()\n",
    "            else:\n",
    "                model = ktree_gen(ds=ds, Repeats=trees, Padded=True)\n",
    "\n",
    "            #Train and test ktree, assigning loss and acc values\n",
    "            loss_curve, acc_curve, loss[j,i,k], acc[j,i,k], model_t = train_test_ktree(model, trainloaders[i],\n",
    "                                                                                  validloaders[i], testloader, epochs = epochs, randorder=False, use_cuda=use_cuda)\n",
    "            # Save accuracy and loss arrays\n",
    "            np.save(project_folder + 'results/ktree_acc_orig_'+str(class_set)+'.npy', acc)\n",
    "            np.save(project_folder + 'results/ktree_loss_orig_'+str(class_set)+'.npy', loss)"
   ],
   "metadata": {
    "collapsed": false,
    "pycharm": {
     "name": "#%%\n"
    }
   }
  },
  {
   "cell_type": "code",
   "execution_count": null,
   "outputs": [],
   "source": [
    "class_set = 0\n",
    "acc = np.load(project_folder + 'results/ktree_acc_orig_'+str(class_set)+'.npy', allow_pickle=True)\n",
    "print(\"RESULTS:\")\n",
    "for j, (t1, t2, ds) in enumerate(classes):\n",
    "    print(f\"Dataset: {ds} / Pair: {t1}-{t2}\")\n",
    "    for k, trees in enumerate(trees_set):\n",
    "        print(f\"{trees}-tree\")\n",
    "        print(f\"Accuracy: mean = {round(np.mean(acc[j,:,k]), 4)}, standard deviation = {round(np.std(acc[j,:,k]), 4)}\")"
   ],
   "metadata": {
    "collapsed": false,
    "pycharm": {
     "name": "#%%\n"
    }
   }
  }
 ],
 "metadata": {
  "kernelspec": {
   "display_name": "Python 3",
   "language": "python",
   "name": "python3"
  },
  "language_info": {
   "codemirror_mode": {
    "name": "ipython",
    "version": 2
   },
   "file_extension": ".py",
   "mimetype": "text/x-python",
   "name": "python",
   "nbconvert_exporter": "python",
   "pygments_lexer": "ipython2",
   "version": "2.7.6"
  }
 },
 "nbformat": 4,
 "nbformat_minor": 0
}