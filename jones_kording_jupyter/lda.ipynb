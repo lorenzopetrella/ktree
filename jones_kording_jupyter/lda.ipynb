{
 "cells": [
  {
   "cell_type": "code",
   "execution_count": null,
   "metadata": {
    "collapsed": true
   },
   "outputs": [],
   "source": [
    "from custompackage.load_data import *\n",
    "import numpy as np\n",
    "from sklearn.discriminant_analysis import LinearDiscriminantAnalysis"
   ]
  },
  {
   "cell_type": "code",
   "execution_count": null,
   "outputs": [],
   "source": [
    "# Initialize settings\n",
    "bs = 256\n",
    "weighting = 'paired'\n",
    "trials = 10\n",
    "\n",
    "# Load class-dataset list\n",
    "classes = np.load('results/classes.npy', allow_pickle=True)\n",
    "\n",
    "# Initialize test accuracy variable\n",
    "score_test = np.zeros((len(classes), trials))\n",
    "\n",
    "\n",
    "for j, (t1, t2, ds) in enumerate(classes):\n",
    "    print(t1, t2, ds)\n",
    "    print('lda')\n",
    "    # Get correctly labeled and paired class datasets\n",
    "    trainloaders, validloaders, testloader = dataset_weighted_split_all(bs, t1, t2, weighting, trials, ds)\n",
    "    for i in range(trials):\n",
    "        print(j, i)\n",
    "        # Reassign datasets\n",
    "        X_train = trainloaders[i].dataset.tensors[0]\n",
    "        y_train = trainloaders[i].dataset.tensors[1]\n",
    "        X_test = testloader.dataset.tensors[0]\n",
    "        y_test = testloader.dataset.tensors[1]\n",
    "\n",
    "        # initialize lda\n",
    "        lda = LinearDiscriminantAnalysis()\n",
    "\n",
    "        # fit to images, labels\n",
    "        lda.fit(X_train, y_train)\n",
    "\n",
    "        # see accuracy for validation set\n",
    "        score_test[j,i] = lda.score(X_test, y_test)\n",
    "        print(score_test[j,i])\n",
    "\n",
    "        # Save accuracy array\n",
    "        np.save('results/lda_score_test.npy', score_test)"
   ],
   "metadata": {
    "collapsed": false,
    "pycharm": {
     "name": "#%%\n"
    }
   }
  },
  {
   "cell_type": "code",
   "execution_count": null,
   "outputs": [],
   "source": [
    "print(\"RESULTS:\")\n",
    "for j, (t1, t2, ds) in enumerate(classes):\n",
    "    print(f\"Dataset: {ds} / Pair: {t1}-{t2}\")\n",
    "    print(f\"Accuracy: mean = {round(np.mean(score_test[j,:]), 4)}, standard deviation = {round(np.std(score_test[j,:]), 4)}\")"
   ],
   "metadata": {
    "collapsed": false,
    "pycharm": {
     "name": "#%%\n"
    }
   }
  }
 ],
 "metadata": {
  "kernelspec": {
   "display_name": "Python 3",
   "language": "python",
   "name": "python3"
  },
  "language_info": {
   "codemirror_mode": {
    "name": "ipython",
    "version": 2
   },
   "file_extension": ".py",
   "mimetype": "text/x-python",
   "name": "python",
   "nbconvert_exporter": "python",
   "pygments_lexer": "ipython2",
   "version": "2.7.6"
  }
 },
 "nbformat": 4,
 "nbformat_minor": 0
}