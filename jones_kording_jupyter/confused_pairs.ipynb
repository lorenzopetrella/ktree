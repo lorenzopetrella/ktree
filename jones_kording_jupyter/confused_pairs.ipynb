{
 "cells": [
  {
   "cell_type": "code",
   "execution_count": 1,
   "metadata": {
    "collapsed": true
   },
   "outputs": [],
   "source": [
    "from custompackage.load_data import *\n",
    "import numpy as np\n",
    "from sklearn.discriminant_analysis import LinearDiscriminantAnalysis"
   ]
  },
  {
   "cell_type": "code",
   "execution_count": 2,
   "outputs": [
    {
     "name": "stdout",
     "output_type": "stream",
     "text": [
      "Downloading http://yann.lecun.com/exdb/mnist/train-images-idx3-ubyte.gz\n",
      "Downloading http://yann.lecun.com/exdb/mnist/train-images-idx3-ubyte.gz to ./data\\MNIST\\raw\\train-images-idx3-ubyte.gz\n"
     ]
    },
    {
     "data": {
      "text/plain": "  0%|          | 0/9912422 [00:00<?, ?it/s]",
      "application/vnd.jupyter.widget-view+json": {
       "version_major": 2,
       "version_minor": 0,
       "model_id": "0dde5a645f564b29a2997a50e4e950d7"
      }
     },
     "metadata": {},
     "output_type": "display_data"
    },
    {
     "name": "stdout",
     "output_type": "stream",
     "text": [
      "Extracting ./data\\MNIST\\raw\\train-images-idx3-ubyte.gz to ./data\\MNIST\\raw\n",
      "\n",
      "Downloading http://yann.lecun.com/exdb/mnist/train-labels-idx1-ubyte.gz\n",
      "Downloading http://yann.lecun.com/exdb/mnist/train-labels-idx1-ubyte.gz to ./data\\MNIST\\raw\\train-labels-idx1-ubyte.gz\n"
     ]
    },
    {
     "data": {
      "text/plain": "  0%|          | 0/28881 [00:00<?, ?it/s]",
      "application/vnd.jupyter.widget-view+json": {
       "version_major": 2,
       "version_minor": 0,
       "model_id": "6e5a614f35f04f5595475bd1e33ae237"
      }
     },
     "metadata": {},
     "output_type": "display_data"
    },
    {
     "name": "stdout",
     "output_type": "stream",
     "text": [
      "Extracting ./data\\MNIST\\raw\\train-labels-idx1-ubyte.gz to ./data\\MNIST\\raw\n",
      "\n",
      "Downloading http://yann.lecun.com/exdb/mnist/t10k-images-idx3-ubyte.gz\n",
      "Downloading http://yann.lecun.com/exdb/mnist/t10k-images-idx3-ubyte.gz to ./data\\MNIST\\raw\\t10k-images-idx3-ubyte.gz\n"
     ]
    },
    {
     "data": {
      "text/plain": "  0%|          | 0/1648877 [00:00<?, ?it/s]",
      "application/vnd.jupyter.widget-view+json": {
       "version_major": 2,
       "version_minor": 0,
       "model_id": "2a735827177e420a9b461dd73b8ac6fc"
      }
     },
     "metadata": {},
     "output_type": "display_data"
    },
    {
     "name": "stdout",
     "output_type": "stream",
     "text": [
      "Extracting ./data\\MNIST\\raw\\t10k-images-idx3-ubyte.gz to ./data\\MNIST\\raw\n",
      "\n",
      "Downloading http://yann.lecun.com/exdb/mnist/t10k-labels-idx1-ubyte.gz\n",
      "Downloading http://yann.lecun.com/exdb/mnist/t10k-labels-idx1-ubyte.gz to ./data\\MNIST\\raw\\t10k-labels-idx1-ubyte.gz\n"
     ]
    },
    {
     "data": {
      "text/plain": "  0%|          | 0/4542 [00:00<?, ?it/s]",
      "application/vnd.jupyter.widget-view+json": {
       "version_major": 2,
       "version_minor": 0,
       "model_id": "de8565a1aecf4d89be07f8bd3aa769c3"
      }
     },
     "metadata": {},
     "output_type": "display_data"
    },
    {
     "name": "stdout",
     "output_type": "stream",
     "text": [
      "Extracting ./data\\MNIST\\raw\\t10k-labels-idx1-ubyte.gz to ./data\\MNIST\\raw\n",
      "\n",
      "Downloading http://fashion-mnist.s3-website.eu-central-1.amazonaws.com/train-images-idx3-ubyte.gz\n",
      "Downloading http://fashion-mnist.s3-website.eu-central-1.amazonaws.com/train-images-idx3-ubyte.gz to ./fmdata\\FashionMNIST\\raw\\train-images-idx3-ubyte.gz\n"
     ]
    },
    {
     "data": {
      "text/plain": "  0%|          | 0/26421880 [00:00<?, ?it/s]",
      "application/vnd.jupyter.widget-view+json": {
       "version_major": 2,
       "version_minor": 0,
       "model_id": "dce48c8cc9d34ec6a0daa2e5d68dbb18"
      }
     },
     "metadata": {},
     "output_type": "display_data"
    },
    {
     "name": "stdout",
     "output_type": "stream",
     "text": [
      "Extracting ./fmdata\\FashionMNIST\\raw\\train-images-idx3-ubyte.gz to ./fmdata\\FashionMNIST\\raw\n",
      "\n",
      "Downloading http://fashion-mnist.s3-website.eu-central-1.amazonaws.com/train-labels-idx1-ubyte.gz\n",
      "Downloading http://fashion-mnist.s3-website.eu-central-1.amazonaws.com/train-labels-idx1-ubyte.gz to ./fmdata\\FashionMNIST\\raw\\train-labels-idx1-ubyte.gz\n"
     ]
    },
    {
     "data": {
      "text/plain": "  0%|          | 0/29515 [00:00<?, ?it/s]",
      "application/vnd.jupyter.widget-view+json": {
       "version_major": 2,
       "version_minor": 0,
       "model_id": "ddf7690d133d43adb5118a409142d89a"
      }
     },
     "metadata": {},
     "output_type": "display_data"
    },
    {
     "name": "stdout",
     "output_type": "stream",
     "text": [
      "Extracting ./fmdata\\FashionMNIST\\raw\\train-labels-idx1-ubyte.gz to ./fmdata\\FashionMNIST\\raw\n",
      "\n",
      "Downloading http://fashion-mnist.s3-website.eu-central-1.amazonaws.com/t10k-images-idx3-ubyte.gz\n",
      "Downloading http://fashion-mnist.s3-website.eu-central-1.amazonaws.com/t10k-images-idx3-ubyte.gz to ./fmdata\\FashionMNIST\\raw\\t10k-images-idx3-ubyte.gz\n"
     ]
    },
    {
     "data": {
      "text/plain": "  0%|          | 0/4422102 [00:00<?, ?it/s]",
      "application/vnd.jupyter.widget-view+json": {
       "version_major": 2,
       "version_minor": 0,
       "model_id": "38a3cc850e034a9899568893c88b6aae"
      }
     },
     "metadata": {},
     "output_type": "display_data"
    },
    {
     "name": "stdout",
     "output_type": "stream",
     "text": [
      "Extracting ./fmdata\\FashionMNIST\\raw\\t10k-images-idx3-ubyte.gz to ./fmdata\\FashionMNIST\\raw\n",
      "\n",
      "Downloading http://fashion-mnist.s3-website.eu-central-1.amazonaws.com/t10k-labels-idx1-ubyte.gz\n",
      "Downloading http://fashion-mnist.s3-website.eu-central-1.amazonaws.com/t10k-labels-idx1-ubyte.gz to ./fmdata\\FashionMNIST\\raw\\t10k-labels-idx1-ubyte.gz\n"
     ]
    },
    {
     "data": {
      "text/plain": "  0%|          | 0/5148 [00:00<?, ?it/s]",
      "application/vnd.jupyter.widget-view+json": {
       "version_major": 2,
       "version_minor": 0,
       "model_id": "48f837257ba849afacf2211723bcb9db"
      }
     },
     "metadata": {},
     "output_type": "display_data"
    },
    {
     "name": "stdout",
     "output_type": "stream",
     "text": [
      "Extracting ./fmdata\\FashionMNIST\\raw\\t10k-labels-idx1-ubyte.gz to ./fmdata\\FashionMNIST\\raw\n",
      "\n",
      "Downloading http://codh.rois.ac.jp/kmnist/dataset/kmnist/train-images-idx3-ubyte.gz\n",
      "Downloading http://codh.rois.ac.jp/kmnist/dataset/kmnist/train-images-idx3-ubyte.gz to ./kmnist\\KMNIST\\raw\\train-images-idx3-ubyte.gz\n"
     ]
    },
    {
     "data": {
      "text/plain": "  0%|          | 0/18165135 [00:00<?, ?it/s]",
      "application/vnd.jupyter.widget-view+json": {
       "version_major": 2,
       "version_minor": 0,
       "model_id": "c82a0738f58b433bb5dfc6f5b9f9f2a9"
      }
     },
     "metadata": {},
     "output_type": "display_data"
    },
    {
     "name": "stdout",
     "output_type": "stream",
     "text": [
      "Extracting ./kmnist\\KMNIST\\raw\\train-images-idx3-ubyte.gz to ./kmnist\\KMNIST\\raw\n",
      "\n",
      "Downloading http://codh.rois.ac.jp/kmnist/dataset/kmnist/train-labels-idx1-ubyte.gz\n",
      "Downloading http://codh.rois.ac.jp/kmnist/dataset/kmnist/train-labels-idx1-ubyte.gz to ./kmnist\\KMNIST\\raw\\train-labels-idx1-ubyte.gz\n"
     ]
    },
    {
     "data": {
      "text/plain": "  0%|          | 0/29497 [00:00<?, ?it/s]",
      "application/vnd.jupyter.widget-view+json": {
       "version_major": 2,
       "version_minor": 0,
       "model_id": "de7ff6d9f82741db8d0b70201dcb91ee"
      }
     },
     "metadata": {},
     "output_type": "display_data"
    },
    {
     "name": "stdout",
     "output_type": "stream",
     "text": [
      "Extracting ./kmnist\\KMNIST\\raw\\train-labels-idx1-ubyte.gz to ./kmnist\\KMNIST\\raw\n",
      "\n",
      "Downloading http://codh.rois.ac.jp/kmnist/dataset/kmnist/t10k-images-idx3-ubyte.gz\n",
      "Downloading http://codh.rois.ac.jp/kmnist/dataset/kmnist/t10k-images-idx3-ubyte.gz to ./kmnist\\KMNIST\\raw\\t10k-images-idx3-ubyte.gz\n"
     ]
    },
    {
     "data": {
      "text/plain": "  0%|          | 0/3041136 [00:00<?, ?it/s]",
      "application/vnd.jupyter.widget-view+json": {
       "version_major": 2,
       "version_minor": 0,
       "model_id": "d9f88e490ae044279937d671dd8fff82"
      }
     },
     "metadata": {},
     "output_type": "display_data"
    },
    {
     "name": "stdout",
     "output_type": "stream",
     "text": [
      "Extracting ./kmnist\\KMNIST\\raw\\t10k-images-idx3-ubyte.gz to ./kmnist\\KMNIST\\raw\n",
      "\n",
      "Downloading http://codh.rois.ac.jp/kmnist/dataset/kmnist/t10k-labels-idx1-ubyte.gz\n",
      "Downloading http://codh.rois.ac.jp/kmnist/dataset/kmnist/t10k-labels-idx1-ubyte.gz to ./kmnist\\KMNIST\\raw\\t10k-labels-idx1-ubyte.gz\n"
     ]
    },
    {
     "data": {
      "text/plain": "  0%|          | 0/5120 [00:00<?, ?it/s]",
      "application/vnd.jupyter.widget-view+json": {
       "version_major": 2,
       "version_minor": 0,
       "model_id": "b652d01a303640e48792914d2e13a2f7"
      }
     },
     "metadata": {},
     "output_type": "display_data"
    },
    {
     "name": "stdout",
     "output_type": "stream",
     "text": [
      "Extracting ./kmnist\\KMNIST\\raw\\t10k-labels-idx1-ubyte.gz to ./kmnist\\KMNIST\\raw\n",
      "\n"
     ]
    },
    {
     "ename": "LinAlgError",
     "evalue": "SVD did not converge",
     "output_type": "error",
     "traceback": [
      "\u001B[1;31m---------------------------------------------------------------------------\u001B[0m",
      "\u001B[1;31mLinAlgError\u001B[0m                               Traceback (most recent call last)",
      "Input \u001B[1;32mIn [2]\u001B[0m, in \u001B[0;36m<cell line: 10>\u001B[1;34m()\u001B[0m\n\u001B[0;32m     29\u001B[0m lda \u001B[38;5;241m=\u001B[39m LinearDiscriminantAnalysis()\n\u001B[0;32m     31\u001B[0m \u001B[38;5;66;03m# fit to images, labels\u001B[39;00m\n\u001B[1;32m---> 32\u001B[0m \u001B[43mlda\u001B[49m\u001B[38;5;241;43m.\u001B[39;49m\u001B[43mfit\u001B[49m\u001B[43m(\u001B[49m\u001B[43mX_train\u001B[49m\u001B[43m,\u001B[49m\u001B[43m \u001B[49m\u001B[43my_train\u001B[49m\u001B[43m)\u001B[49m\n\u001B[0;32m     34\u001B[0m \u001B[38;5;66;03m# see accuracy for validation set\u001B[39;00m\n\u001B[0;32m     35\u001B[0m score_test \u001B[38;5;241m=\u001B[39m lda\u001B[38;5;241m.\u001B[39mscore(X_test, y_test)\n",
      "File \u001B[1;32mc:\\pythonvenv\\lib\\site-packages\\sklearn\\discriminant_analysis.py:590\u001B[0m, in \u001B[0;36mLinearDiscriminantAnalysis.fit\u001B[1;34m(self, X, y)\u001B[0m\n\u001B[0;32m    584\u001B[0m     \u001B[38;5;28;01mif\u001B[39;00m \u001B[38;5;28mself\u001B[39m\u001B[38;5;241m.\u001B[39mcovariance_estimator \u001B[38;5;129;01mis\u001B[39;00m \u001B[38;5;129;01mnot\u001B[39;00m \u001B[38;5;28;01mNone\u001B[39;00m:\n\u001B[0;32m    585\u001B[0m         \u001B[38;5;28;01mraise\u001B[39;00m \u001B[38;5;167;01mValueError\u001B[39;00m(\n\u001B[0;32m    586\u001B[0m             \u001B[38;5;124m\"\u001B[39m\u001B[38;5;124mcovariance estimator \u001B[39m\u001B[38;5;124m\"\u001B[39m\n\u001B[0;32m    587\u001B[0m             \u001B[38;5;124m\"\u001B[39m\u001B[38;5;124mis not supported \u001B[39m\u001B[38;5;124m\"\u001B[39m\n\u001B[0;32m    588\u001B[0m             \u001B[38;5;124m\"\u001B[39m\u001B[38;5;124mwith svd solver. Try another solver\u001B[39m\u001B[38;5;124m\"\u001B[39m\n\u001B[0;32m    589\u001B[0m         )\n\u001B[1;32m--> 590\u001B[0m     \u001B[38;5;28;43mself\u001B[39;49m\u001B[38;5;241;43m.\u001B[39;49m\u001B[43m_solve_svd\u001B[49m\u001B[43m(\u001B[49m\u001B[43mX\u001B[49m\u001B[43m,\u001B[49m\u001B[43m \u001B[49m\u001B[43my\u001B[49m\u001B[43m)\u001B[49m\n\u001B[0;32m    591\u001B[0m \u001B[38;5;28;01melif\u001B[39;00m \u001B[38;5;28mself\u001B[39m\u001B[38;5;241m.\u001B[39msolver \u001B[38;5;241m==\u001B[39m \u001B[38;5;124m\"\u001B[39m\u001B[38;5;124mlsqr\u001B[39m\u001B[38;5;124m\"\u001B[39m:\n\u001B[0;32m    592\u001B[0m     \u001B[38;5;28mself\u001B[39m\u001B[38;5;241m.\u001B[39m_solve_lsqr(\n\u001B[0;32m    593\u001B[0m         X,\n\u001B[0;32m    594\u001B[0m         y,\n\u001B[0;32m    595\u001B[0m         shrinkage\u001B[38;5;241m=\u001B[39m\u001B[38;5;28mself\u001B[39m\u001B[38;5;241m.\u001B[39mshrinkage,\n\u001B[0;32m    596\u001B[0m         covariance_estimator\u001B[38;5;241m=\u001B[39m\u001B[38;5;28mself\u001B[39m\u001B[38;5;241m.\u001B[39mcovariance_estimator,\n\u001B[0;32m    597\u001B[0m     )\n",
      "File \u001B[1;32mc:\\pythonvenv\\lib\\site-packages\\sklearn\\discriminant_analysis.py:488\u001B[0m, in \u001B[0;36mLinearDiscriminantAnalysis._solve_svd\u001B[1;34m(self, X, y)\u001B[0m\n\u001B[0;32m    486\u001B[0m X \u001B[38;5;241m=\u001B[39m np\u001B[38;5;241m.\u001B[39msqrt(fac) \u001B[38;5;241m*\u001B[39m (Xc \u001B[38;5;241m/\u001B[39m std)\n\u001B[0;32m    487\u001B[0m \u001B[38;5;66;03m# SVD of centered (within)scaled data\u001B[39;00m\n\u001B[1;32m--> 488\u001B[0m U, S, Vt \u001B[38;5;241m=\u001B[39m \u001B[43mlinalg\u001B[49m\u001B[38;5;241;43m.\u001B[39;49m\u001B[43msvd\u001B[49m\u001B[43m(\u001B[49m\u001B[43mX\u001B[49m\u001B[43m,\u001B[49m\u001B[43m \u001B[49m\u001B[43mfull_matrices\u001B[49m\u001B[38;5;241;43m=\u001B[39;49m\u001B[38;5;28;43;01mFalse\u001B[39;49;00m\u001B[43m)\u001B[49m\n\u001B[0;32m    490\u001B[0m rank \u001B[38;5;241m=\u001B[39m np\u001B[38;5;241m.\u001B[39msum(S \u001B[38;5;241m>\u001B[39m \u001B[38;5;28mself\u001B[39m\u001B[38;5;241m.\u001B[39mtol)\n\u001B[0;32m    491\u001B[0m \u001B[38;5;66;03m# Scaling of within covariance is: V' 1/S\u001B[39;00m\n",
      "File \u001B[1;32mc:\\pythonvenv\\lib\\site-packages\\scipy\\linalg\\_decomp_svd.py:131\u001B[0m, in \u001B[0;36msvd\u001B[1;34m(a, full_matrices, compute_uv, overwrite_a, check_finite, lapack_driver)\u001B[0m\n\u001B[0;32m    127\u001B[0m u, s, v, info \u001B[38;5;241m=\u001B[39m gesXd(a1, compute_uv\u001B[38;5;241m=\u001B[39mcompute_uv, lwork\u001B[38;5;241m=\u001B[39mlwork,\n\u001B[0;32m    128\u001B[0m                       full_matrices\u001B[38;5;241m=\u001B[39mfull_matrices, overwrite_a\u001B[38;5;241m=\u001B[39moverwrite_a)\n\u001B[0;32m    130\u001B[0m \u001B[38;5;28;01mif\u001B[39;00m info \u001B[38;5;241m>\u001B[39m \u001B[38;5;241m0\u001B[39m:\n\u001B[1;32m--> 131\u001B[0m     \u001B[38;5;28;01mraise\u001B[39;00m LinAlgError(\u001B[38;5;124m\"\u001B[39m\u001B[38;5;124mSVD did not converge\u001B[39m\u001B[38;5;124m\"\u001B[39m)\n\u001B[0;32m    132\u001B[0m \u001B[38;5;28;01mif\u001B[39;00m info \u001B[38;5;241m<\u001B[39m \u001B[38;5;241m0\u001B[39m:\n\u001B[0;32m    133\u001B[0m     \u001B[38;5;28;01mraise\u001B[39;00m \u001B[38;5;167;01mValueError\u001B[39;00m(\u001B[38;5;124m'\u001B[39m\u001B[38;5;124millegal value in \u001B[39m\u001B[38;5;132;01m%d\u001B[39;00m\u001B[38;5;124mth argument of internal gesdd\u001B[39m\u001B[38;5;124m'\u001B[39m\n\u001B[0;32m    134\u001B[0m                      \u001B[38;5;241m%\u001B[39m \u001B[38;5;241m-\u001B[39minfo)\n",
      "\u001B[1;31mLinAlgError\u001B[0m: SVD did not converge"
     ]
    }
   ],
   "source": [
    "bs = 256\n",
    "weighting = 'paired'\n",
    "trials = 10\n",
    "classes = 10\n",
    "ds_set = ['mnist', 'fmnist', 'kmnist', 'svhn', 'usps', 'cifar10']\n",
    "\n",
    "paired_test = np.zeros((len(ds_set), trials, 10, 10))\n",
    "\n",
    "# For each 10-class dataset\n",
    "for k, ds in enumerate(ds_set):\n",
    "    # Go through each class\n",
    "    for t1 in range(classes):\n",
    "\n",
    "        # and pair it with every other class\n",
    "        for t2 in range(t1 + 1, classes):\n",
    "\n",
    "            for m in range(trials):\n",
    "\n",
    "                # Load the binary classification dataloaders\n",
    "                trainloaders, validloaders, testloader = dataset_weighted_split_all(bs, t1, t2, weighting, trials, ds)\n",
    "\n",
    "                # Assign entirety of the datasets within each dataloader to a variable\n",
    "                X_train = trainloaders[0].dataset.tensors[0]\n",
    "                y_train = trainloaders[0].dataset.tensors[1]\n",
    "                X_test = testloader.dataset.tensors[0]\n",
    "                y_test = testloader.dataset.tensors[1]\n",
    "\n",
    "                # initialize lda\n",
    "                lda = LinearDiscriminantAnalysis()\n",
    "\n",
    "                # fit to images, labels\n",
    "                lda.fit(X_train, y_train)\n",
    "\n",
    "                # see accuracy for validation set\n",
    "                score_test = lda.score(X_test, y_test)\n",
    "\n",
    "                print(ds, m, t1, t2, score_test)\n",
    "\n",
    "                #Record keeping\n",
    "\n",
    "                paired_test[k, m, t1, t2] = score_test\n",
    "\n",
    "                np.save('results/confused_pairs_all.npy', paired_test)"
   ],
   "metadata": {
    "collapsed": false,
    "pycharm": {
     "name": "#%%\n"
    }
   }
  }
 ],
 "metadata": {
  "kernelspec": {
   "display_name": "Python 3",
   "language": "python",
   "name": "python3"
  },
  "language_info": {
   "codemirror_mode": {
    "name": "ipython",
    "version": 2
   },
   "file_extension": ".py",
   "mimetype": "text/x-python",
   "name": "python",
   "nbconvert_exporter": "python",
   "pygments_lexer": "ipython2",
   "version": "2.7.6"
  }
 },
 "nbformat": 4,
 "nbformat_minor": 0
}